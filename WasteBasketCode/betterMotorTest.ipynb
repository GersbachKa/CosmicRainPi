{
 "cells": [
  {
   "cell_type": "code",
   "execution_count": null,
   "metadata": {},
   "outputs": [],
   "source": [
    "import time\n",
    "import os\n",
    "import RPi.GPIO as GPIO\n",
    "\n",
    "class fineTest:\n",
    "    def __init__(self):\n",
    "        GPIO.setmode(GPIO.BOARD)\n",
    "        self.pin = 7 #Pin number of data wire\n",
    "        GPIO.setup(pin,GPIO.OUT)\n",
    "        self.pwm = GPIO.PWM(self.pin,50)\n",
    "        self.pwm.start(5)\n",
    "        self.pwm.ChangeDutyCycle(2.5)\n",
    "        self.location = 0\n",
    "    \n",
    "    def goTo(self, degrees):\n",
    "        factor = 18\n",
    "        if(type(degrees)!=type(factor)):\n",
    "            print(\"Degree out of range, Use between 0 and 180. Use an integer.\")\n",
    "            return\n",
    "        elif(degrees>180):\n",
    "            print(\"Degree out of range, Use between 0 and 180. Use an integer.\")\n",
    "            return\n",
    "        elif(degrees<0):\n",
    "            print(\"Degree out of range, Use between 0 and 180. Use an integer.\")\n",
    "            return\n",
    "        else:\n",
    "            self.pwm.ChangeDutyCycle(degrees/factor)\n",
    "            print(\"Moved to : \"+ degrees +\" degrees.\")\n",
    "            return\n",
    "    \n",
    "    def clean(self):\n",
    "        GPIO.cleanup()\n",
    "        exit()\n",
    "    "
   ]
  },
  {
   "cell_type": "code",
   "execution_count": 1,
   "metadata": {},
   "outputs": [
    {
     "name": "stdout",
     "output_type": "stream",
     "text": [
      "9.444444444444445\n"
     ]
    }
   ],
   "source": [
    "a = 170\n",
    "b = 18\n",
    "\n",
    "print(a/b)"
   ]
  }
 ],
 "metadata": {
  "kernelspec": {
   "display_name": "Python 3",
   "language": "python",
   "name": "python3"
  },
  "language_info": {
   "codemirror_mode": {
    "name": "ipython",
    "version": 3
   },
   "file_extension": ".py",
   "mimetype": "text/x-python",
   "name": "python",
   "nbconvert_exporter": "python",
   "pygments_lexer": "ipython3",
   "version": "3.5.5"
  }
 },
 "nbformat": 4,
 "nbformat_minor": 2
}
